{
  "cells": [
    {
      "cell_type": "markdown",
      "metadata": {
        "colab_type": "text",
        "id": "view-in-github"
      },
      "source": [
        "<a href=\"https://colab.research.google.com/github/liupengzhouyi/Math/blob/main/009_MathematicsOfDeepLearning/mathofneuralnetwork.ipynb\" target=\"_parent\"><img src=\"https://colab.research.google.com/assets/colab-badge.svg\" alt=\"Open In Colab\"/></a>"
      ]
    },
    {
      "cell_type": "markdown",
      "metadata": {
        "id": "PXIr3ileUiEy"
      },
      "source": [
        "## How can we coalculate the module's layer output value"
      ]
    },
    {
      "cell_type": "markdown",
      "metadata": {
        "id": "k1SWoFdxUiE1"
      },
      "source": [
        "$$\n",
        "    z = w_1x_1 + w_2x_2 + w_3x_3 + b\n",
        "$$"
      ]
    },
    {
      "cell_type": "markdown",
      "metadata": {
        "id": "raV1JrMWUiE2"
      },
      "source": [
        "## How can we coalculate the output value's error with target value"
      ]
    },
    {
      "cell_type": "markdown",
      "metadata": {
        "id": "zIMA_j9XUiE2"
      },
      "source": [
        "* simple error"
      ]
    },
    {
      "cell_type": "markdown",
      "metadata": {
        "id": "y3bkvx7hUiE3"
      },
      "source": [
        "$$\n",
        "    C = target - z\n",
        "$$"
      ]
    },
    {
      "cell_type": "markdown",
      "metadata": {
        "id": "LA86NALxUiE3"
      },
      "source": [
        "* square error"
      ]
    },
    {
      "cell_type": "markdown",
      "metadata": {
        "id": "IgvyIfkvUiE4"
      },
      "source": [
        "$$\n",
        "    C = \\frac{1}{2} (target - z)^2\n",
        "$$"
      ]
    },
    {
      "cell_type": "markdown",
      "metadata": {
        "id": "3rA34ph3UiE4"
      },
      "source": [
        "* error sum"
      ]
    },
    {
      "cell_type": "markdown",
      "metadata": {
        "id": "V_CCuR0zUiE5"
      },
      "source": [
        "$$\n",
        "    C_T = C_1 + C_2 + ... + C_k + ...\n",
        "$$"
      ]
    },
    {
      "cell_type": "markdown",
      "metadata": {
        "id": "AX2Eh686UiE5"
      },
      "source": [
        "## Active function:sigmoid"
      ]
    },
    {
      "cell_type": "markdown",
      "metadata": {
        "id": "S3SUHyC6UiE5"
      },
      "source": [
        "$$\n",
        "    \\sigma(x) = \\frac{1}{1 + e^x} = \\frac{1}{1 + exp(x)}\n",
        "$$"
      ]
    },
    {
      "cell_type": "code",
      "execution_count": 11,
      "metadata": {
        "id": "YcNB3VExUiE6",
        "outputId": "39a02c02-ebaf-4050-aad9-c4f80441a72a"
      },
      "outputs": [
        {
          "data": {
            "image/png": "[encoded data removed]",
            "text/plain": [
              "<Figure size 800x400 with 1 Axes>"
            ]
          },
          "metadata": {},
          "output_type": "display_data"
        }
      ],
      "source": [
        "import numpy as np\n",
        "import matplotlib.pyplot as plt\n",
        "\n",
        "# 定义 sigmoid 函数\n",
        "def sigmoid(x):\n",
        "    return 1 / (1 + np.exp(-x))\n",
        "\n",
        "# 生成一系列的 x 值\n",
        "x = np.linspace(-10, 10, 100)\n",
        "\n",
        "# 计算对应的 y 值\n",
        "y = sigmoid(x)\n",
        "\n",
        "# 绘制图形\n",
        "plt.figure(figsize=(8, 4))\n",
        "plt.plot(x, y, label=r\"$\\sigma(x) = \\frac{1}{1 + e^{-x}}$\")\n",
        "plt.xlabel('x')\n",
        "plt.ylabel(r'$\\sigma(x)$')\n",
        "plt.title('Sigmoid Function')\n",
        "plt.grid(True)\n",
        "plt.legend()\n",
        "plt.show()\n"
      ]
    },
    {
      "cell_type": "markdown",
      "metadata": {
        "id": "KbREQyLAUiE8"
      },
      "source": [
        "## Cauchy-schwarz inequality [vector]\n",
        "$-|\\vec{a}||\\vec{b}| <= \\vec{a}·\\vec{b} <= |\\vec{a}||\\vec{b}|$   \n",
        "$-1 <= cos\\theta <= 1$   \n",
        "$-|\\vec{a}||\\vec{b}| <= \\vec{a}·\\vec{b}·cos\\theta <= |\\vec{a}||\\vec{b}| $"
      ]
    },
    {
      "cell_type": "markdown",
      "metadata": {
        "id": "BymndUWwUiE8"
      },
      "source": [
        "## vector inner product\n",
        "\n",
        "$\\vec{a} = (x_1, y_1)$  \n",
        "$\\vec{b} = (x_2, y_2)$  \n",
        "$\\vec{a}·\\vec{b} = x_1 \\times x_2 + y_1 \\times y_2 = x_1x_2 + y_1y_2$"
      ]
    },
    {
      "cell_type": "markdown",
      "metadata": {
        "id": "tn1tNUtaUiE8"
      },
      "source": [
        "## Hadamard product Of Matrix\n",
        "\n",
        "$$\n",
        "X =\n",
        "\\begin{pmatrix}\n",
        "a & b \\\\\n",
        "c & d\n",
        "\\end{pmatrix}\n",
        "$$\n",
        "\n",
        "$$\n",
        "Y =\n",
        "\\begin{pmatrix}\n",
        "A & B \\\\\n",
        "C & D\n",
        "\\end{pmatrix}\n",
        "$$\n",
        "\n",
        "$$\n",
        "X⊙Y =\n",
        "\\begin{pmatrix}\n",
        "a \\cdot A & b \\cdot B \\\\\n",
        "c \\cdot C & d \\cdot D\n",
        "\\end{pmatrix}\n",
        "$$"
      ]
    },
    {
      "cell_type": "markdown",
      "metadata": {
        "id": "toGzXwCxUiE8"
      },
      "source": [
        "## Derivative Of Neutral Network Mathematics\n",
        "\n",
        "$$\n",
        "y = f(x)\n",
        "$$\n",
        "\n",
        "$$\n",
        "    f^\\prime(x) = \\dot{f}(x) = \\lim_{\\Delta{x} \\to 0} \\frac{f(x + \\Delta{x}) - f(x)}{\\Delta{x}}\n",
        "$$\n",
        "\n",
        "$$\n",
        "    f^\\prime{x} = \\frac{dy}{dx}\n",
        "$$"
      ]
    },
    {
      "cell_type": "markdown",
      "metadata": {
        "id": "FxmaDYSCUiE8"
      },
      "source": [
        "### Derivative If sigmold function\n",
        "\n",
        "$$\n",
        "    \\sigma(x) = \\frac{1}{1 + e^{-x}}  \n",
        "$$\n",
        "\n",
        "1. set $u=1+e^{-x}$;\n",
        "2. And $\\sigma(x) = \\frac{1}{u}$;\n",
        "3. ${\\sigma}'(x) = \\frac{d}{du}\\left ( \\frac{1}{u} \\right )$    \n",
        "4. $\\frac{d}{du}\\left ( \\frac{1}{u} \\right ) = \\frac{d}{dx}\\left ( \\frac{1}{u} \\right )\\frac{du}{dx}$   \n",
        "5. $\\frac{d}{dx}\\left ( \\frac{1}{u} \\right )\\frac{du}{dx} = -\\frac{1}{u^2} \\cdot \\frac{du}{dx}$\n",
        "6. $-\\frac{1}{u^2} \\cdot \\frac{du}{dx} = -\\frac{1}{u^2} \\cdot (-e^{-x})$   \n",
        "7. $-\\frac{1}{u^2} \\cdot (-e^{-x}) = -\\frac{1}{(1 + e^{-x})^2} \\cdot (-e^{-x})$   \n",
        "8. $-\\frac{1}{(1 + e^{-x})^2} \\cdot (-e^{-x}) = \\frac{e^{-x}}{(1 + e^{-x})^2}$        \n",
        "9.  $\\frac{e^{-x}}{(1 + e^{-x})^2} = \\frac{(1 + e^{-x}) - 1}{(1 + e^{-x})^2}$  \n",
        "10. $\\frac{(1 + e^{-x}) - 1}{(1 + e^{-x})^2} = \\frac{1}{1 + e^{-x}} - \\frac{1}{(1 + e^{-x})^{2}} $  \n",
        "11. $\\frac{1}{1 + e^{-x}} - \\frac{1}{(1 + e^{-x})^{2}} = \\sigma(x) - \\sigma(x)^2 $    \n",
        "12. $\\sigma(x) - \\sigma(x)^2 = \\sigma(x) \\cdot (1 - \\sigma(x))$\n",
        "\n",
        "$$\n",
        "    {\\sigma}'(x) = \\frac{d}{du}\\left ( \\frac{1}{u} \\right )= \\frac{d}{dx}\\left ( \\frac{1}{u} \\right )\\frac{du}{dx} = -\\frac{1}{u^2} \\cdot \\frac{du}{dx} = -\\frac{1}{u^2} \\cdot (-e^{-x})) = -\\frac{1}{(1 + e^{-x})^2} \\cdot (-e^{-x})) = \\frac{e^{-x}}{(1 + e^{-x})^2} = \\frac{(1 + e^{-x}) - 1}{(1 + e^{-x})^2} = \\frac{1}{1 + e^{-x}} - \\frac{1}{(1 + e^{-x})^{2}} = \\sigma(x) - \\sigma(x)^2 = \\sigma(x) \\cdot (1 - \\sigma(x))\n",
        "$$"
      ]
    },
    {
      "cell_type": "markdown",
      "metadata": {
        "id": "f2VgPoefUiE9"
      },
      "source": [
        "If your want to get the top value include maxnum and mininum, you need set ${\\sigma}^\\prime{(x)} = 0$."
      ]
    },
    {
      "cell_type": "markdown",
      "metadata": {
        "id": "Ku921bwgUiE9"
      },
      "source": [
        "## Coaculate partial derivatives of multivariate functions"
      ]
    },
    {
      "cell_type": "markdown",
      "metadata": {
        "id": "AJzQRfuuUiE9"
      },
      "source": [
        "$$\n",
        "z = f(x, y)\n",
        "$$\n",
        "\n",
        "$$\n",
        "\\frac{\\partial z}{\\partial x} = \\frac{\\partial f(x, y))}{\\partial x} = \\lim_{\\Delta{x} \\to_ 0} \\frac{f(x + \\Delta{x}, y) - f(x, y)}{\\Delta{x}}\n",
        "$$\n",
        "\n",
        "$$\n",
        "\\frac{\\partial z}{\\partial y} = \\frac{\\partial f(x, y))}{\\partial y} = \\lim_{\\Delta{y} \\to_ 0} \\frac{f(x , y + \\Delta{y}) - f(x, y)}{\\Delta{y}}\n",
        "$$\n",
        "\n"
      ]
    },
    {
      "cell_type": "markdown",
      "metadata": {
        "id": "OqNrEe8EWzTY"
      },
      "source": [
        "If your want to get the mininum of function $z = f(x, y)$, you need set this formula established; $\\frac{\\partial{z}}{\\partial{x}} = 0$ and $\\frac{\\partial{z}}{\\partial{y}} = 0$."
      ]
    },
    {
      "cell_type": "markdown",
      "metadata": {
        "id": "ZxGukIbTXux5"
      },
      "source": [
        "## Derivative of domposite functions\n",
        "\n",
        "$$\n",
        "y = f1(u)  \n",
        "$$\n",
        "$$ \n",
        "u = f2(v)   \n",
        "$$\n",
        "$$\n",
        "v = f3(x)\n",
        "$$\n",
        "$$   \n",
        "\\frac{dy}{dx} = \\frac{dy}{du} \\cdot \\frac{du}{dv} \\cdot \\frac{dv}{dx}\n",
        "$$"
      ]
    },
    {
      "cell_type": "markdown",
      "metadata": {},
      "source": [
        "## Derivatives of mulivariable composite functions\n",
        "\n",
        "$$\n",
        "u = f1(x, y)\n",
        "$$\n",
        "$$\n",
        "v = f2(x, y)\n",
        "$$\n",
        "$$\n",
        "z = f3 (u, v)\n",
        "$$\n",
        "\n",
        "$$\n",
        "\\frac{dz}{dx} = \\frac{dz}{du} \\cdot \\frac{du}{dx} + \\frac{dz}{dv} \\cdot \\frac{dv}{dx}\n",
        "$$\n",
        "$$\n",
        "\\frac{dz}{dy} = \\frac{dz}{du} \\cdot \\frac{du}{dy} + \\frac{dz}{dv} \\cdot \\frac{dv}{dy}\n",
        "$$\n"
      ]
    },
    {
      "cell_type": "markdown",
      "metadata": {},
      "source": [
        "## Function derivation approximation formaula\n",
        "\n",
        "### One variate function\n",
        "$$\n",
        "f^\\prime(x) = \\lim_{\\Delta{x} \\to 0} \\frac{f(x + \\Delta{x}) - f(x)}{\\Delta{x}}\n",
        "$$\n",
        "\n",
        "$$\n",
        "f^\\prime(x) \\approx \\frac{f(x + \\Delta{x}) + f(x)}{\\Delta{x}}\n",
        "$$\n",
        "\n",
        "$$\n",
        "f(x + \\Delta{x}) \\approx f(x) + f\\prime(x)\\Delta{x})\n",
        "$$\n",
        "\n",
        "### Multivariate function\n",
        "\n",
        "$$\n",
        "z = f(x, y)\n",
        "$$\n",
        "\n",
        "$$\n",
        "f(x + \\Delta{x}, y + \\Delta{y}) \\approx f(x, y) + \\frac{df(x, y)}{dx} \\cdot \\Delta{x} + \\frac{df(x, y)}{dy} \\cdot \\Delta{y}\n",
        "$$\n",
        "\n",
        "$$\n",
        "\\Delta{z} = f(x + \\Delta{x}, y + \\Delta{y}) - f(x, y)\n",
        "$$\n",
        "\n",
        "$$\n",
        "\\Delta{z} \\approx \\frac{df(x, y)}{dx} \\cdot \\Delta{x} + \\frac{df(x, y)}{dy} \\cdot \\Delta{y} \\approx \\frac{dz}{dx} \\cdot \\Delta{x} + \\frac{dz}{dy} \\cdot \\Delta{y}\n",
        "$$\n",
        "\n",
        "$$\n",
        "\\Delta{z} \\approx \\frac{dz}{dx_1}\\Delta{x_1} + \\frac{dz}{dx_2}\\Delta{x_2} + \\frac{dz}{dx_3}\\Delta{x_3}\n",
        "$$\n",
        "\n",
        "* Coacolate as vector \n",
        "\n",
        "$\\nabla$ 哈密顿算子\n",
        "\n",
        "$$\n",
        "\\nabla{f} = (\\frac{dz}{dx_1}, \\frac{dz}{dx_2}, \\frac{dz}{dx_3})\n",
        "$$\n",
        "\n",
        "$$\n",
        "\\Delta{x} = (\\Delta{x1}, \\Delta{x2}, \\Delta{x3})\n",
        "$$\n",
        "\n",
        "$$\n",
        "\\Delta{z} = \\nabla{f} \\cdot \\Delta{x}\n",
        "$$"
      ]
    },
    {
      "cell_type": "markdown",
      "metadata": {},
      "source": [
        "If your want to $\\Delta{z}$ is the mininum, The vector $\\Delta{w}$ and $\\Delta{x}$ need reverse.  $\\vec{a} \\cdot \\vec{b} = 0$\n",
        "\n",
        "$$\n",
        "\\Delta{x} = -\\eta\\nabla{f}\n",
        "$$"
      ]
    },
    {
      "cell_type": "markdown",
      "metadata": {},
      "source": [
        "# Neural Netword"
      ]
    },
    {
      "cell_type": "markdown",
      "metadata": {},
      "source": [
        "$$\n",
        "    wx + b = a\n",
        "$$\n",
        "\n",
        "$$\n",
        "z_1^2 = w_{11}^2x_1 + w_{12}^2x_2 + w_{13}^2x_3 + ... + w_{1\\,12}^2x_12 + b_1^2\n",
        "$$"
      ]
    },
    {
      "cell_type": "markdown",
      "metadata": {},
      "source": [
        "$$\n",
        "\\begin{bmatrix}\n",
        "z_{1} \\\\\n",
        "z_{2} \\\\\n",
        "z_{3} \\\\\n",
        "\\end{bmatrix}\n",
        "=\n",
        "\\begin{bmatrix}\n",
        "w_{11}^2 & w_{12}^2 & w_{13}^2 & \\cdots & w_{1,12}^2 \\\\\n",
        "w_{21}^2 & w_{22}^2 & w_{23}^2 & \\cdots & w_{2,12}^2 \\\\\n",
        "w_{31}^2 & w_{32}^2 & w_{33}^2 & \\cdots & w_{3,12}^2 \\\\\n",
        "\\end{bmatrix}\n",
        "\\begin{bmatrix}\n",
        "x_{1} \\\\\n",
        "x_{2} \\\\\n",
        "x_{3} \\\\\n",
        "\\vdots \\\\\n",
        "x_{12} \\\\\n",
        "\\end{bmatrix}\n",
        "+\n",
        "\\begin{bmatrix}\n",
        "b_{1}^2 \\\\\n",
        "b_{2}^2 \\\\\n",
        "b_{3}^2 \\\\\n",
        "\\end{bmatrix}\n",
        "$$\n"
      ]
    },
    {
      "cell_type": "markdown",
      "metadata": {},
      "source": [
        "### coaculate error\n",
        "\n",
        "z: output value     \n",
        "t: target value\n",
        "\n",
        "$C_1 = l = \\frac{1}{2}(z - a)^2$\n",
        "\n",
        "or\n",
        "\n",
        "$l = -\\frac{1}{n} [t \\cdot log z + (1-t) \\cdot log (1-z)]$"
      ]
    },
    {
      "cell_type": "markdown",
      "metadata": {},
      "source": [
        "### Cost function\n",
        "$$\n",
        "    C_T = C_1 + C_2 + C_3\n",
        "$$\n",
        "\n",
        "$$\n",
        "    \\frac{dC_T}{dw} = 0\n",
        "$$"
      ]
    },
    {
      "cell_type": "markdown",
      "metadata": {},
      "source": [
        "### How can we know the value of w and b?\n",
        "\n",
        "#### Function 1\n",
        "\n",
        "计算方程组：\n",
        "$$\n",
        "    \\frac{dC_T}{dw_1} = 0;\\frac{dC_T}{dw_2} = 0;\\frac{dC_T}{dw_3} = 0;\\frac{dC_T}{dw_4} = 0;...;\\frac{dC_T}{b} = 0\n",
        "$$\n",
        "\n"
      ]
    },
    {
      "cell_type": "markdown",
      "metadata": {},
      "source": [
        "#### Function 2\n",
        "\n",
        "We know:\n",
        "\n",
        "$$\n",
        "    (\\Delta{x_1}, \\Delta{x_2}, \\Delta{x_3}, ..., \\Delta{b}) = -\\eta{(\\frac{df}{dx_1}, \\frac{df}{dx_2}, \\frac{df}{dx_3}, ..., \\frac{df}{db})}\n",
        "$$\n",
        "\n",
        "#### create a function link w and cost function\n",
        "\n",
        "$$\n",
        "C_k = \\frac{1}{2} (t - a)^2 = t^2 + a^2 - t \\cdot a\n",
        "$$\n",
        "\n",
        "$$\n",
        "    (\\Delta{w_1}, \\Delta{w_2}, \\Delta{w_3}, ..., \\Delta{b}) = -\\eta{(\\frac{dC_T}{dw_1}, \\frac{dC_T}{dw_2}, \\frac{dC_T}{dw_3}, ..., \\frac{dC_T}{db})}\n",
        "$$\n",
        "\n",
        "**导数地狱**\n",
        "$$\n",
        "\\frac{\\partial C_k}{\\partial w_{11}^2} = \\frac{\\partial C_k}{\\partial a_{3}[k]} \\frac{\\partial a_{3}[k]}{\\partial z_{3}[k]} \\frac{\\partial z_{3}[k]}{\\partial a_{2}[k]} \\frac{\\partial a_{2}[k]}{\\partial z_{2}[k]} \\frac{\\partial z_{2}[k]}{\\partial w_{11}^2} + \\frac{\\partial C_k}{\\partial a_{3}[k]} \\frac{\\partial a_{3}[k]}{\\partial z_{3}[k]} \\frac{\\partial z_{3}[k]}{\\partial a_{1}[k]} \\frac{\\partial a_{1}[k]}{\\partial z_{1}[k]} \\frac{\\partial z_{1}[k]}{\\partial w_{11}^2}\n",
        "$$\n",
        "\n",
        "\n",
        "$$\n",
        "    \\frac{\\partial C_T}{\\partial w_{11}^2} = \\frac{\\partial C_1}{\\partial w_{11}^2} + \\frac{\\partial C_2}{\\partial w_{11}^2} + ... + \\frac{\\partial C_k}{\\partial w_{11}^2}\n",
        "$$"
      ]
    },
    {
      "cell_type": "markdown",
      "metadata": {},
      "source": [
        "## Cost function VS Loss function\n",
        "\n",
        "### Cost function\n",
        "\n",
        "* This function coalcolute all difference between the predicted value and the true value.\n",
        "\n",
        "\n",
        "### Loss function\n",
        "\n",
        "* This function only coalculate one demo's difference between the predicted value and the true value."
      ]
    },
    {
      "cell_type": "markdown",
      "metadata": {},
      "source": [
        "## How to update the neural network's peremiter\n",
        "\n",
        "$$\n",
        "    w_i = w_i - \\eta \\frac{dC}{dw_i}\n",
        "$$"
      ]
    },
    {
      "cell_type": "markdown",
      "metadata": {},
      "source": [
        "coalculate the difference between the predicted value and true value.\n",
        "\n",
        "$$\n",
        "    C = \\frac{1}{2}(y - \\hat{y})^2\n",
        "$$"
      ]
    },
    {
      "cell_type": "markdown",
      "metadata": {},
      "source": [
        "The functions in network\n",
        "\n",
        "$$\n",
        "    z = w \\cdot x + b\n",
        "$$\n",
        "\n",
        "$$\n",
        "    y = f(z)\n",
        "$$"
      ]
    },
    {
      "cell_type": "markdown",
      "metadata": {},
      "source": [
        "$$\n",
        "    {\\frac{\\partial C}{\\partial w}} = \\frac{\\partial C}{\\partial \\hat{y}} \\cdot \\frac{\\partial \\hat{y}}{\\partial z} \\cdot \\frac{\\partial z}{\\partial w}\n",
        "$$"
      ]
    },
    {
      "cell_type": "markdown",
      "metadata": {},
      "source": [
        "$\\frac{\\partial C}{\\partial \\hat{y}} = y - \\hat{y}$ \n",
        "\n",
        "$\\frac{\\partial \\hat{y}}{\\partial z} = {f}'(z)$     \n",
        "   \n",
        "$\\frac{\\partial z}{\\partial w} = x$       "
      ]
    },
    {
      "cell_type": "markdown",
      "metadata": {},
      "source": [
        "$$\n",
        "    \\frac{\\partial C}{\\partial w} = (y - \\hat{y}) \\cdot {f}'(z) \\cdot x\n",
        "$$"
      ]
    },
    {
      "cell_type": "markdown",
      "metadata": {},
      "source": [
        "update parameter\n",
        "$$\n",
        "w_i = w_i - \\eta \\frac{dC}{dw_i}\n",
        "$$"
      ]
    },
    {
      "cell_type": "markdown",
      "metadata": {},
      "source": [
        "### What means about $\\frac{\\partial C}{\\partial z}$"
      ]
    },
    {
      "cell_type": "markdown",
      "metadata": {},
      "source": [
        "**z**: 当前神经元输出   \n",
        "\n",
        "**局部梯度**：这个偏导数也可以被视为局部梯度，表示在一个特定神经元层面上成本函数对加权输入 \n",
        "z的敏感度。\n",
        "\n",
        "$$\n",
        "    \\delta_j^l = \\frac{\\partial C}{\\partial z_j^l} = (y - \\hat{y}) \\cdot {f}'(z_j^l)\n",
        "$$"
      ]
    },
    {
      "cell_type": "markdown",
      "metadata": {},
      "source": [
        "$$\n",
        "    \\frac{\\partial C}{\\partial w_{11}^{2}} = \\delta_{1}^{2} \\cdot x_{1} = \\delta_{1}^{2} \\cdot a_{1}^{1}\n",
        "$$"
      ]
    },
    {
      "cell_type": "markdown",
      "metadata": {},
      "source": [
        "### What different from $\\frac{\\partial C}{\\partial b}$ with $\\frac{\\partial C}{\\partial w}$\n",
        "\n",
        "\n",
        "$$\n",
        "    \\frac{\\partial C}{\\partial w_{ji}^{l}} = \\delta_{j}^{l} \\cdot x_{i}^{l-1} = \\delta_{j}^{l} \\cdot a_{i}^{l-1}\n",
        "$$\n",
        "\n",
        "$$\n",
        "    \\frac{\\partial C}{\\partial b^{l}_{j}} = \\frac{\\partial C}{\\partial z^{l}_{j}} \\cdot \\frac{\\partial z^{l}_{j}}{\\partial b^{l}_{j}} = \\frac{\\partial C}{\\partial z^{l}_{j}} = \\delta^{l}_{j}\n",
        "$$\n",
        "\n"
      ]
    },
    {
      "cell_type": "markdown",
      "metadata": {},
      "source": [
        "### Coalcolate $\\delta$"
      ]
    },
    {
      "cell_type": "markdown",
      "metadata": {},
      "source": [
        "$$\n",
        "    \\delta_{j}^{3} = \\frac{\\partial C}{\\partial z_{j}^{3}} = \\frac{\\partial C}{\\partial a_{j}^{3}} \\cdot \\frac{\\partial a_{j}^{3}}{\\partial z_{j}^{3}} = \\frac{\\partial C}{\\partial a_{j}^{3}} {a}'(z_{j}^{3})\n",
        "$$"
      ]
    },
    {
      "cell_type": "markdown",
      "metadata": {},
      "source": [
        "$$\n",
        "    \\delta_{j}^{L} = \\frac{\\partial C}{\\partial a_{j}^{L}} {a}'(z_{j}^{L})\n",
        "$$"
      ]
    },
    {
      "cell_type": "markdown",
      "metadata": {},
      "source": [
        "$C = \\frac{1}{2}\\left \\{ \\left ( t_{1} - a_1^3 \\right )^2 + \\left ( t_2 - a_2^3 \\right )^2 \\right \\}$\n",
        "    \n",
        "$\\frac{\\partial C}{\\partial a_1^3} = a_1^3 - t_1$\n",
        "\n",
        "$\\delta_{1}^{3} = (a_1^3 - t_1){a}'(z_1^3)$\n",
        "\n",
        "$$"
      ]
    },
    {
      "cell_type": "markdown",
      "metadata": {},
      "source": [
        "$$\n",
        "    \\delta_1^2 = \\frac{\\partial C}{\\partial z_1^2} = \\frac{\\partial C}{\\partial z_1^3} \\frac{\\partial z_1^3}{\\partial a_1^2} \\frac{\\partial a_1^2}{\\partial z_1^2} + \\frac{\\partial C}{\\partial z_2^3} \\frac{\\partial z_2^3}{\\partial a_1^2} \\frac{\\partial a_1^2}{\\partial z_1^2} = \\delta_1^3 \\cdot w_{11}^3{a}'(z_1^2) + \\delta_2^3 \\cdot w_{21}^3{a}'(z_1^2)\n",
        "$$"
      ]
    },
    {
      "cell_type": "markdown",
      "metadata": {},
      "source": [
        "$$\n",
        "    \\delta_1^2 = (\\delta_1^3w_{11}^3 + \\delta_2^3w_{21}^3){a}'(z_1^2)\n",
        "$$"
      ]
    },
    {
      "cell_type": "markdown",
      "metadata": {},
      "source": [
        "#### General formula\n",
        "$$\n",
        "    \\delta_i^l = (\\delta_1^{l+1}w_{1i}^{l+1} + \\delta_2^{l+1}w_{2i}^{l+1} + ... + \\delta_m^{l+1}w_{mi}^{l+1}){a}'(z_i^l)\n",
        "$$\n",
        "\n",
        "$$\n",
        "    \\delta^{[l]} = ((W^{[l+1]})^T\\delta^{[l+1]})\\bigodot {\\sigma }'(z^{[l]})\n",
        "$$"
      ]
    },
    {
      "cell_type": "markdown",
      "metadata": {},
      "source": [
        "## Convolution Neural Network"
      ]
    },
    {
      "cell_type": "markdown",
      "metadata": {},
      "source": [
        "$$\n",
        "    c_{11}^{F1} = w_{11}^{F1}x_{11} + w_{12}^{F1}x_{12} + w_{13}^{F1}x_{13} + w_{21}^{F1}x_{21} + w_{22}^{F1}x_{22} + w_{23}^{F1}x_{23} + w_{31}^{F1}x_{31} + w_{32}^{F1}x_{32} + w_{33}^{F1}x_{33}\n",
        "$$"
      ]
    },
    {
      "cell_type": "markdown",
      "metadata": {},
      "source": [
        "$$\n",
        "    z_{ij}^{Fk} = w_{11}^{Fk}x_{ij} + w_{12}^{Fk}x_{ij+1} + w_{13}^{Fk}x_{ij+2} + w_{21}^{Fk}x_{i+1j} + w_{22}^{Fk}x_{i+1j+2} + w_{23}^{Fk}x_{i+1j+2} + w_{31}^{Fk}x_{i+2j} + w_{32}^{Fk}x_{i+2j+1} + w_{33}^{Fk}x_{i+2j+2} + b^{Fk}\n",
        "$$"
      ]
    },
    {
      "cell_type": "markdown",
      "metadata": {},
      "source": [
        "$$\n",
        "    a_{ij}^{Fk} = a(z_{ij}^{Fk})\n",
        "$$"
      ]
    },
    {
      "cell_type": "markdown",
      "metadata": {},
      "source": [
        "### Pooling layer\n",
        "\n",
        "$$\n",
        "    z_{ij}^{Pk} = Max(a_{ij}^{Pk}, a_{ij+1}^{Pk}, a_{i+1j}^{Pk}, a_{i+1j+1}^{Pk},)\n",
        "$$\n",
        "\n",
        "$$\n",
        "    z_{ij}^{Pk} = z_{ij}^{Pk}\n",
        "$$"
      ]
    },
    {
      "cell_type": "markdown",
      "metadata": {},
      "source": [
        "### Output layer\n",
        "\n",
        "$$\n",
        "    z_{n}^{O} = wa + wa + wa + wa +     \n",
        "                wa + wa + wa + wa +     \n",
        "                wa + wa + wa + wa + b_{n}^{O}\n",
        "$$\n",
        "\n",
        "$$\n",
        "    a_{n}^{O} = a(z_{n}^{O})\n",
        "$$"
      ]
    },
    {
      "cell_type": "markdown",
      "metadata": {},
      "source": [
        "### Cost function\n",
        "\n",
        "$$\n",
        "    C_{k} = \\frac{1}{2}((t_{1} - a_{1}^{O})^2 + (t_{2} - a_{2}^{O})^2 + (t_{3} - a_{3}^{O})^2)\n",
        "$$\n",
        "\n",
        "$$\n",
        "    C_{T} = C_{1} + C_{2} + C_{3}\n",
        "$$"
      ]
    }
  ],
  "metadata": {
    "colab": {
      "include_colab_link": true,
      "provenance": []
    },
    "kernelspec": {
      "display_name": "Python 3",
      "language": "python",
      "name": "python3"
    },
    "language_info": {
      "codemirror_mode": {
        "name": "ipython",
        "version": 3
      },
      "file_extension": ".py",
      "mimetype": "text/x-python",
      "name": "python",
      "nbconvert_exporter": "python",
      "pygments_lexer": "ipython3",
      "version": "3.9.6"
    }
  },
  "nbformat": 4,
  "nbformat_minor": 0
}
